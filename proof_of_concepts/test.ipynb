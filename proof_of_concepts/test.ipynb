{
 "cells": [
  {
   "cell_type": "code",
   "execution_count": 1,
   "metadata": {},
   "outputs": [],
   "source": [
    "from pyspark.sql.session import SparkSession\n",
    "\n",
    "\n",
    "spark = (\n",
    "    SparkSession.Builder()\n",
    "    .config(\"spark.jars.packages\", \"org.apache.hudi:hudi-spark3.2-bundle_2.12:0.12.2\")\n",
    "    .config(\"spark.serializer\", \"org.apache.spark.serializer.KryoSerializer\")\n",
    "    .config(\"spark.sql.catalog.spark_catalog\", \"org.apache.spark.sql.hudi.catalog.HoodieCatalog\")\n",
    "    .config(\"spark.sql.extensions\", \"org.apache.spark.sql.hudi.HoodieSparkSessionExtension\")\n",
    "    .appName(\"Local app\")\n",
    "    .master(\"local\")\n",
    "    .getOrCreate()\n",
    ")"
   ]
  },
  {
   "cell_type": "code",
   "execution_count": 26,
   "metadata": {},
   "outputs": [],
   "source": [
    "input_path = \"C:/Users/parth/Desktop/workspace/data_pipeline/output/users\"\n",
    "\n",
    "df = (spark.read.format(\"hudi\")\n",
    "    .option(\"as.of.instant\", \"20221231222922084\")\n",
    "    .load(input_path))"
   ]
  },
  {
   "cell_type": "code",
   "execution_count": 28,
   "metadata": {},
   "outputs": [
    {
     "data": {
      "text/plain": [
       "[Row(last_modified=datetime.datetime(2022, 12, 31, 22, 29, 22, 255354)),\n",
       " Row(last_modified=datetime.datetime(2022, 12, 31, 22, 28, 51, 38034))]"
      ]
     },
     "execution_count": 28,
     "metadata": {},
     "output_type": "execute_result"
    }
   ],
   "source": [
    "df.select(\"last_modified\").distinct().collect()"
   ]
  }
 ],
 "metadata": {
  "kernelspec": {
   "display_name": ".venv",
   "language": "python",
   "name": "python3"
  },
  "language_info": {
   "codemirror_mode": {
    "name": "ipython",
    "version": 3
   },
   "file_extension": ".py",
   "mimetype": "text/x-python",
   "name": "python",
   "nbconvert_exporter": "python",
   "pygments_lexer": "ipython3",
   "version": "3.11.1 (tags/v3.11.1:a7a450f, Dec  6 2022, 19:58:39) [MSC v.1934 64 bit (AMD64)]"
  },
  "orig_nbformat": 4,
  "vscode": {
   "interpreter": {
    "hash": "e786019c51d7d66bc673c7db9fba72e515d909359f6b6c2874a8577b83f4c335"
   }
  }
 },
 "nbformat": 4,
 "nbformat_minor": 2
}
