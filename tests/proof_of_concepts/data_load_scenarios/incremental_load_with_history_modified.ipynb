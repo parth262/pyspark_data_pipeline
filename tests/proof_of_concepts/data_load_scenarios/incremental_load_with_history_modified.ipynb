{
 "cells": [
  {
   "cell_type": "code",
   "execution_count": 1,
   "metadata": {},
   "outputs": [
    {
     "data": {
      "text/plain": [
       "{'hoodie.table.name': 'customers_incremental_with_history_modified',\n",
       " 'hoodie.datasource.write.recordkey.field': 'id',\n",
       " 'hoodie.datasource.write.partitionpath.field': 'date',\n",
       " 'hoodie.datasource.write.table.name': 'customers_incremental_with_history_modified',\n",
       " 'hoodie.datasource.write.operation': 'upsert',\n",
       " 'hoodie.datasource.write.precombine.field': 'updated_date'}"
      ]
     },
     "execution_count": 1,
     "metadata": {},
     "output_type": "execute_result"
    }
   ],
   "source": [
    "from util import *\n",
    "import pyspark.sql.functions as f\n",
    "import warnings\n",
    "warnings.simplefilter(action='ignore', category=FutureWarning)\n",
    "\n",
    "initial_data_file = \"C:/Users/parth/Desktop/workspace/data_pipeline/resources/sample_data/customers.csv\"\n",
    "updated_data_file = \"C:/Users/parth/Desktop/workspace/data_pipeline/resources/sample_data/customers_incremental.csv\"\n",
    "\n",
    "output_path = \"C:/Users/parth/Desktop/workspace/data_pipeline/output/customers_incremental_with_history_modified\"\n",
    "table_name = \"customers_incremental_with_history_modified\"\n",
    "primary_key_field = \"id\"\n",
    "parition_field = \"date\"\n",
    "precombine_field = \"updated_date\"\n",
    "spark_write_mode = \"append\"\n",
    "parition_from = \"updated_date\"\n",
    "hudi_options = get_incremental_options(table_name, primary_key_field, parition_field, precombine_field)\n",
    "hudi_options"
   ]
  },
  {
   "cell_type": "code",
   "execution_count": 2,
   "metadata": {},
   "outputs": [],
   "source": [
    "import os\n",
    "import shutil\n",
    "\n",
    "if os.path.exists(output_path):\n",
    "    shutil.rmtree(output_path)"
   ]
  },
  {
   "cell_type": "code",
   "execution_count": 3,
   "metadata": {},
   "outputs": [],
   "source": [
    "spark = get_spark_with_hudi()"
   ]
  },
  {
   "cell_type": "code",
   "execution_count": 4,
   "metadata": {},
   "outputs": [],
   "source": [
    "source_df = spark.read.option(\"header\", \"true\").option(\"inferSchema\", \"true\").format(\"csv\").load(initial_data_file)\n",
    "\n",
    "timestamp_columns = [\"created_date\", \"updated_date\"]\n",
    "\n",
    "w_create_ts = \"2023-01-01 00:00:00\"\n",
    "\n",
    "for column in timestamp_columns:\n",
    "    source_df = source_df.withColumn(column, f.col(column).cast(\"timestamp\"))\n",
    "\n",
    "processed_df = (source_df.withColumn(\"date\", f.date_format(f.col(parition_from), \"yyyyMMdd\"))\n",
    "    .withColumn(\"w_create_ts\", f.lit(w_create_ts).cast(\"timestamp\")))"
   ]
  },
  {
   "cell_type": "code",
   "execution_count": 5,
   "metadata": {},
   "outputs": [],
   "source": [
    "processed_df.write.format(\"hudi\").options(**hudi_options).mode(spark_write_mode).save(output_path)"
   ]
  },
  {
   "cell_type": "code",
   "execution_count": 6,
   "metadata": {},
   "outputs": [
    {
     "data": {
      "text/html": [
       "<div>\n",
       "<style scoped>\n",
       "    .dataframe tbody tr th:only-of-type {\n",
       "        vertical-align: middle;\n",
       "    }\n",
       "\n",
       "    .dataframe tbody tr th {\n",
       "        vertical-align: top;\n",
       "    }\n",
       "\n",
       "    .dataframe thead th {\n",
       "        text-align: right;\n",
       "    }\n",
       "</style>\n",
       "<table border=\"1\" class=\"dataframe\">\n",
       "  <thead>\n",
       "    <tr style=\"text-align: right;\">\n",
       "      <th></th>\n",
       "      <th>id</th>\n",
       "      <th>name</th>\n",
       "      <th>email</th>\n",
       "      <th>created_date</th>\n",
       "      <th>updated_date</th>\n",
       "      <th>w_create_ts</th>\n",
       "    </tr>\n",
       "  </thead>\n",
       "  <tbody>\n",
       "    <tr>\n",
       "      <th>0</th>\n",
       "      <td>2</td>\n",
       "      <td>Brocky Spurret</td>\n",
       "      <td>bspurret1@npr.org</td>\n",
       "      <td>2023-01-01 05:35:00</td>\n",
       "      <td>2023-01-01 05:35:00</td>\n",
       "      <td>2023-01-01</td>\n",
       "    </tr>\n",
       "    <tr>\n",
       "      <th>1</th>\n",
       "      <td>1</td>\n",
       "      <td>Jammie McCamish</td>\n",
       "      <td>jmccamish0@devhub.com</td>\n",
       "      <td>2023-01-01 03:17:00</td>\n",
       "      <td>2023-01-01 03:17:00</td>\n",
       "      <td>2023-01-01</td>\n",
       "    </tr>\n",
       "  </tbody>\n",
       "</table>\n",
       "</div>"
      ],
      "text/plain": [
       "   id             name                  email        created_date  \\\n",
       "0   2   Brocky Spurret      bspurret1@npr.org 2023-01-01 05:35:00   \n",
       "1   1  Jammie McCamish  jmccamish0@devhub.com 2023-01-01 03:17:00   \n",
       "\n",
       "         updated_date w_create_ts  \n",
       "0 2023-01-01 05:35:00  2023-01-01  \n",
       "1 2023-01-01 03:17:00  2023-01-01  "
      ]
     },
     "execution_count": 6,
     "metadata": {},
     "output_type": "execute_result"
    }
   ],
   "source": [
    "target_df = (spark.read.format(\"hudi\")\n",
    "    .load(output_path))\n",
    "\n",
    "target_df.select(\"id\", \"name\", \"email\", \"created_date\", \"updated_date\", \"w_create_ts\").toPandas().head(10)"
   ]
  },
  {
   "cell_type": "code",
   "execution_count": 7,
   "metadata": {},
   "outputs": [],
   "source": [
    "source_df = spark.read.option(\"header\", \"true\").option(\"inferSchema\", \"true\").format(\"csv\").load(updated_data_file)\n",
    "\n",
    "timestamp_columns = [\"created_date\", \"updated_date\"]\n",
    "\n",
    "for column in timestamp_columns:\n",
    "    source_df = source_df.withColumn(column, f.col(column).cast(\"timestamp\"))"
   ]
  },
  {
   "cell_type": "code",
   "execution_count": 8,
   "metadata": {},
   "outputs": [],
   "source": [
    "def resolve_column(column_name): \n",
    "    return (f.when(f.col(f\"r.{column_name}\").isNotNull() & (f.col(f\"l.{column_name}\") != f.col(f\"r.{column_name}\")), f.col(f\"r.{column_name}\"))\n",
    "        .otherwise(f.col(f\"l.{column_name}\"))).alias(column_name)"
   ]
  },
  {
   "cell_type": "code",
   "execution_count": 9,
   "metadata": {},
   "outputs": [],
   "source": [
    "columns = source_df.columns\n",
    "left_df = target_df.select(*columns).alias(\"l\")\n",
    "right_df = source_df.select(*columns).alias(\"r\")\n",
    "intermediate_df = left_df.join(right_df, on=primary_key_field, how=\"left\")\n",
    "columns.remove(primary_key_field)\n",
    "resolved_columns = [primary_key_field] + list(map(resolve_column, columns))\n",
    "intermediate_df = intermediate_df.select(*resolved_columns)"
   ]
  },
  {
   "cell_type": "code",
   "execution_count": 10,
   "metadata": {},
   "outputs": [],
   "source": [
    "from datetime import datetime\n",
    "w_create_ts = datetime.now().strftime(\"%Y-%m-%d %H:%M:%S\")\n",
    "processed_df = (intermediate_df.withColumn(\"date\", f.date_format(f.col(parition_from), \"yyyyMMdd\"))\n",
    "    .withColumn(\"w_create_ts\", f.lit(w_create_ts).cast(\"timestamp\")))"
   ]
  },
  {
   "cell_type": "code",
   "execution_count": 16,
   "metadata": {},
   "outputs": [],
   "source": [
    "processed_df.write.format(\"hudi\").options(**hudi_options).mode(spark_write_mode).save(output_path)"
   ]
  },
  {
   "cell_type": "code",
   "execution_count": 17,
   "metadata": {},
   "outputs": [
    {
     "data": {
      "text/html": [
       "<div>\n",
       "<style scoped>\n",
       "    .dataframe tbody tr th:only-of-type {\n",
       "        vertical-align: middle;\n",
       "    }\n",
       "\n",
       "    .dataframe tbody tr th {\n",
       "        vertical-align: top;\n",
       "    }\n",
       "\n",
       "    .dataframe thead th {\n",
       "        text-align: right;\n",
       "    }\n",
       "</style>\n",
       "<table border=\"1\" class=\"dataframe\">\n",
       "  <thead>\n",
       "    <tr style=\"text-align: right;\">\n",
       "      <th></th>\n",
       "      <th>id</th>\n",
       "      <th>name</th>\n",
       "      <th>email</th>\n",
       "      <th>created_date</th>\n",
       "      <th>updated_date</th>\n",
       "      <th>w_create_ts</th>\n",
       "    </tr>\n",
       "  </thead>\n",
       "  <tbody>\n",
       "    <tr>\n",
       "      <th>0</th>\n",
       "      <td>1</td>\n",
       "      <td>Jammie McCamish</td>\n",
       "      <td>jmccamish0@develophub.com</td>\n",
       "      <td>2023-01-01 03:17:00</td>\n",
       "      <td>2023-01-02 03:17:00</td>\n",
       "      <td>2023-01-14 16:20:41</td>\n",
       "    </tr>\n",
       "    <tr>\n",
       "      <th>1</th>\n",
       "      <td>2</td>\n",
       "      <td>Brocky Spurret</td>\n",
       "      <td>bspurret1@npr.org</td>\n",
       "      <td>2023-01-01 05:35:00</td>\n",
       "      <td>2023-01-01 05:35:00</td>\n",
       "      <td>2023-01-14 16:20:41</td>\n",
       "    </tr>\n",
       "  </tbody>\n",
       "</table>\n",
       "</div>"
      ],
      "text/plain": [
       "   id             name                      email        created_date  \\\n",
       "0   1  Jammie McCamish  jmccamish0@develophub.com 2023-01-01 03:17:00   \n",
       "1   2   Brocky Spurret          bspurret1@npr.org 2023-01-01 05:35:00   \n",
       "\n",
       "         updated_date         w_create_ts  \n",
       "0 2023-01-02 03:17:00 2023-01-14 16:20:41  \n",
       "1 2023-01-01 05:35:00 2023-01-14 16:20:41  "
      ]
     },
     "execution_count": 17,
     "metadata": {},
     "output_type": "execute_result"
    }
   ],
   "source": [
    "target_df = (spark.read.format(\"hudi\")\n",
    "    .load(output_path))\n",
    "\n",
    "target_df.select(\"id\", \"name\", \"email\", \"created_date\", \"updated_date\", \"w_create_ts\").toPandas().head(10)"
   ]
  }
 ],
 "metadata": {
  "kernelspec": {
   "display_name": ".venv",
   "language": "python",
   "name": "python3"
  },
  "language_info": {
   "codemirror_mode": {
    "name": "ipython",
    "version": 3
   },
   "file_extension": ".py",
   "mimetype": "text/x-python",
   "name": "python",
   "nbconvert_exporter": "python",
   "pygments_lexer": "ipython3",
   "version": "3.11.1"
  },
  "orig_nbformat": 4,
  "vscode": {
   "interpreter": {
    "hash": "e786019c51d7d66bc673c7db9fba72e515d909359f6b6c2874a8577b83f4c335"
   }
  }
 },
 "nbformat": 4,
 "nbformat_minor": 2
}
