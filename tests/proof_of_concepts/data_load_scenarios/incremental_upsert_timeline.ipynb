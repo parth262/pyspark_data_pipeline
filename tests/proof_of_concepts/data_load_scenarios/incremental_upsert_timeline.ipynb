{
 "cells": [
  {
   "cell_type": "code",
   "execution_count": 1,
   "metadata": {},
   "outputs": [],
   "source": [
    "from util import *\n",
    "\n",
    "output_path = \"C:/Users/parth/Desktop/workspace/data_pipeline/output/customers_incremental_upsert\""
   ]
  },
  {
   "cell_type": "code",
   "execution_count": 2,
   "metadata": {},
   "outputs": [],
   "source": [
    "spark = get_spark_with_hudi()"
   ]
  },
  {
   "cell_type": "code",
   "execution_count": 10,
   "metadata": {},
   "outputs": [
    {
     "data": {
      "text/plain": [
       "['20230101215900567', '20230101215905142']"
      ]
     },
     "execution_count": 10,
     "metadata": {},
     "output_type": "execute_result"
    }
   ],
   "source": [
    "incremental_upsert_df = spark.read.format(\"hudi\").load(output_path)\n",
    "\n",
    "commits = incremental_upsert_df.select(\"_hoodie_commit_time\").sort(\"_hoodie_commit_time\").distinct().collect()\n",
    "commits = list(map(lambda x: x.__getitem__(\"_hoodie_commit_time\"), commits))\n",
    "commits"
   ]
  },
  {
   "cell_type": "code",
   "execution_count": 11,
   "metadata": {},
   "outputs": [
    {
     "name": "stderr",
     "output_type": "stream",
     "text": [
      "c:\\Users\\parth\\Desktop\\workspace\\data_pipeline\\.venv\\Lib\\site-packages\\pyspark\\sql\\pandas\\conversion.py:194: FutureWarning: Passing unit-less datetime64 dtype to .astype is deprecated and will raise in a future version. Pass 'datetime64[ns]' instead\n",
      "  series = series.astype(t, copy=False)\n",
      "c:\\Users\\parth\\Desktop\\workspace\\data_pipeline\\.venv\\Lib\\site-packages\\pyspark\\sql\\pandas\\conversion.py:194: FutureWarning: Passing unit-less datetime64 dtype to .astype is deprecated and will raise in a future version. Pass 'datetime64[ns]' instead\n",
      "  series = series.astype(t, copy=False)\n",
      "c:\\Users\\parth\\Desktop\\workspace\\data_pipeline\\.venv\\Lib\\site-packages\\pyspark\\sql\\pandas\\conversion.py:194: FutureWarning: Passing unit-less datetime64 dtype to .astype is deprecated and will raise in a future version. Pass 'datetime64[ns]' instead\n",
      "  series = series.astype(t, copy=False)\n"
     ]
    },
    {
     "data": {
      "text/html": [
       "<div>\n",
       "<style scoped>\n",
       "    .dataframe tbody tr th:only-of-type {\n",
       "        vertical-align: middle;\n",
       "    }\n",
       "\n",
       "    .dataframe tbody tr th {\n",
       "        vertical-align: top;\n",
       "    }\n",
       "\n",
       "    .dataframe thead th {\n",
       "        text-align: right;\n",
       "    }\n",
       "</style>\n",
       "<table border=\"1\" class=\"dataframe\">\n",
       "  <thead>\n",
       "    <tr style=\"text-align: right;\">\n",
       "      <th></th>\n",
       "      <th>id</th>\n",
       "      <th>name</th>\n",
       "      <th>email</th>\n",
       "      <th>created_date</th>\n",
       "      <th>updated_date</th>\n",
       "      <th>w_create_ts</th>\n",
       "    </tr>\n",
       "  </thead>\n",
       "  <tbody>\n",
       "    <tr>\n",
       "      <th>0</th>\n",
       "      <td>2</td>\n",
       "      <td>Brocky Spurret</td>\n",
       "      <td>bspurret1@npr.org</td>\n",
       "      <td>2023-01-01 05:35:00</td>\n",
       "      <td>2023-01-01 05:35:00</td>\n",
       "      <td>2023-01-01</td>\n",
       "    </tr>\n",
       "    <tr>\n",
       "      <th>1</th>\n",
       "      <td>1</td>\n",
       "      <td>Jammie McCamish</td>\n",
       "      <td>jmccamish0@devhub.com</td>\n",
       "      <td>2023-01-01 03:17:00</td>\n",
       "      <td>2023-01-01 03:17:00</td>\n",
       "      <td>2023-01-01</td>\n",
       "    </tr>\n",
       "  </tbody>\n",
       "</table>\n",
       "</div>"
      ],
      "text/plain": [
       "   id             name                  email        created_date  \\\n",
       "0   2   Brocky Spurret      bspurret1@npr.org 2023-01-01 05:35:00   \n",
       "1   1  Jammie McCamish  jmccamish0@devhub.com 2023-01-01 03:17:00   \n",
       "\n",
       "         updated_date w_create_ts  \n",
       "0 2023-01-01 05:35:00  2023-01-01  \n",
       "1 2023-01-01 03:17:00  2023-01-01  "
      ]
     },
     "execution_count": 11,
     "metadata": {},
     "output_type": "execute_result"
    }
   ],
   "source": [
    "commit_0_df = spark.read.format(\"hudi\").option(\"as.of.instant\", commits[0]).load(output_path)\n",
    "\n",
    "commit_0_df.select(\"id\", \"name\", \"email\", \"created_date\", \"updated_date\", \"w_create_ts\").toPandas().head(10)"
   ]
  },
  {
   "cell_type": "code",
   "execution_count": 12,
   "metadata": {},
   "outputs": [
    {
     "name": "stderr",
     "output_type": "stream",
     "text": [
      "c:\\Users\\parth\\Desktop\\workspace\\data_pipeline\\.venv\\Lib\\site-packages\\pyspark\\sql\\pandas\\conversion.py:194: FutureWarning: Passing unit-less datetime64 dtype to .astype is deprecated and will raise in a future version. Pass 'datetime64[ns]' instead\n",
      "  series = series.astype(t, copy=False)\n",
      "c:\\Users\\parth\\Desktop\\workspace\\data_pipeline\\.venv\\Lib\\site-packages\\pyspark\\sql\\pandas\\conversion.py:194: FutureWarning: Passing unit-less datetime64 dtype to .astype is deprecated and will raise in a future version. Pass 'datetime64[ns]' instead\n",
      "  series = series.astype(t, copy=False)\n",
      "c:\\Users\\parth\\Desktop\\workspace\\data_pipeline\\.venv\\Lib\\site-packages\\pyspark\\sql\\pandas\\conversion.py:194: FutureWarning: Passing unit-less datetime64 dtype to .astype is deprecated and will raise in a future version. Pass 'datetime64[ns]' instead\n",
      "  series = series.astype(t, copy=False)\n"
     ]
    },
    {
     "data": {
      "text/html": [
       "<div>\n",
       "<style scoped>\n",
       "    .dataframe tbody tr th:only-of-type {\n",
       "        vertical-align: middle;\n",
       "    }\n",
       "\n",
       "    .dataframe tbody tr th {\n",
       "        vertical-align: top;\n",
       "    }\n",
       "\n",
       "    .dataframe thead th {\n",
       "        text-align: right;\n",
       "    }\n",
       "</style>\n",
       "<table border=\"1\" class=\"dataframe\">\n",
       "  <thead>\n",
       "    <tr style=\"text-align: right;\">\n",
       "      <th></th>\n",
       "      <th>id</th>\n",
       "      <th>name</th>\n",
       "      <th>email</th>\n",
       "      <th>created_date</th>\n",
       "      <th>updated_date</th>\n",
       "      <th>w_create_ts</th>\n",
       "    </tr>\n",
       "  </thead>\n",
       "  <tbody>\n",
       "    <tr>\n",
       "      <th>0</th>\n",
       "      <td>2</td>\n",
       "      <td>Brocky Spurret</td>\n",
       "      <td>bspurret1@npr.org</td>\n",
       "      <td>2023-01-01 05:35:00</td>\n",
       "      <td>2023-01-01 05:35:00</td>\n",
       "      <td>2023-01-01</td>\n",
       "    </tr>\n",
       "    <tr>\n",
       "      <th>1</th>\n",
       "      <td>1</td>\n",
       "      <td>Jammie McCamish</td>\n",
       "      <td>jmccamish0@develophub.com</td>\n",
       "      <td>2023-01-01 03:17:00</td>\n",
       "      <td>2023-01-02 03:17:00</td>\n",
       "      <td>2023-01-02</td>\n",
       "    </tr>\n",
       "  </tbody>\n",
       "</table>\n",
       "</div>"
      ],
      "text/plain": [
       "   id             name                      email        created_date  \\\n",
       "0   2   Brocky Spurret          bspurret1@npr.org 2023-01-01 05:35:00   \n",
       "1   1  Jammie McCamish  jmccamish0@develophub.com 2023-01-01 03:17:00   \n",
       "\n",
       "         updated_date w_create_ts  \n",
       "0 2023-01-01 05:35:00  2023-01-01  \n",
       "1 2023-01-02 03:17:00  2023-01-02  "
      ]
     },
     "execution_count": 12,
     "metadata": {},
     "output_type": "execute_result"
    }
   ],
   "source": [
    "commit_1_df = spark.read.format(\"hudi\").option(\"as.of.instant\", commits[1]).load(output_path)\n",
    "\n",
    "commit_1_df.select(\"id\", \"name\", \"email\", \"created_date\", \"updated_date\", \"w_create_ts\").toPandas().head(10)"
   ]
  }
 ],
 "metadata": {
  "kernelspec": {
   "display_name": ".venv",
   "language": "python",
   "name": "python3"
  },
  "language_info": {
   "codemirror_mode": {
    "name": "ipython",
    "version": 3
   },
   "file_extension": ".py",
   "mimetype": "text/x-python",
   "name": "python",
   "nbconvert_exporter": "python",
   "pygments_lexer": "ipython3",
   "version": "3.11.1 (tags/v3.11.1:a7a450f, Dec  6 2022, 19:58:39) [MSC v.1934 64 bit (AMD64)]"
  },
  "orig_nbformat": 4,
  "vscode": {
   "interpreter": {
    "hash": "e786019c51d7d66bc673c7db9fba72e515d909359f6b6c2874a8577b83f4c335"
   }
  }
 },
 "nbformat": 4,
 "nbformat_minor": 2
}
