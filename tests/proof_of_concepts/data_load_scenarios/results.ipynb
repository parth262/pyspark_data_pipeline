{
 "cells": [
  {
   "cell_type": "code",
   "execution_count": 8,
   "metadata": {},
   "outputs": [],
   "source": [
    "from util import *\n",
    "import pandas as pd\n",
    "import warnings\n",
    "warnings.simplefilter(action='ignore', category=FutureWarning)\n",
    "\n",
    "source_initial_data_file = \"C:/Users/parth/Desktop/workspace/data_pipeline/resources/sample_data/customers.csv\"\n",
    "source_updated_data_file = \"C:/Users/parth/Desktop/workspace/data_pipeline/resources/sample_data/customers_full.csv\"\n",
    "\n",
    "full_overwrite_path = \"C:/Users/parth/Desktop/workspace/data_pipeline/output/customers_full_overwrite\"\n",
    "incremental_upsert_path = \"C:/Users/parth/Desktop/workspace/data_pipeline/output/customers_incremental_upsert\"\n",
    "incremental_insert_path = \"C:/Users/parth/Desktop/workspace/data_pipeline/output/customers_incremental_with_history\""
   ]
  },
  {
   "cell_type": "code",
   "execution_count": 9,
   "metadata": {},
   "outputs": [
    {
     "data": {
      "text/html": [
       "<div>\n",
       "<style scoped>\n",
       "    .dataframe tbody tr th:only-of-type {\n",
       "        vertical-align: middle;\n",
       "    }\n",
       "\n",
       "    .dataframe tbody tr th {\n",
       "        vertical-align: top;\n",
       "    }\n",
       "\n",
       "    .dataframe thead th {\n",
       "        text-align: right;\n",
       "    }\n",
       "</style>\n",
       "<table border=\"1\" class=\"dataframe\">\n",
       "  <thead>\n",
       "    <tr style=\"text-align: right;\">\n",
       "      <th></th>\n",
       "      <th>id</th>\n",
       "      <th>name</th>\n",
       "      <th>email</th>\n",
       "      <th>created_date</th>\n",
       "      <th>updated_date</th>\n",
       "    </tr>\n",
       "  </thead>\n",
       "  <tbody>\n",
       "    <tr>\n",
       "      <th>0</th>\n",
       "      <td>1</td>\n",
       "      <td>Jammie McCamish</td>\n",
       "      <td>jmccamish0@devhub.com</td>\n",
       "      <td>2023-01-01 03:17:00</td>\n",
       "      <td>2023-01-01 03:17:00</td>\n",
       "    </tr>\n",
       "    <tr>\n",
       "      <th>1</th>\n",
       "      <td>2</td>\n",
       "      <td>Brocky Spurret</td>\n",
       "      <td>bspurret1@npr.org</td>\n",
       "      <td>2023-01-01 05:35:00</td>\n",
       "      <td>2023-01-01 05:35:00</td>\n",
       "    </tr>\n",
       "  </tbody>\n",
       "</table>\n",
       "</div>"
      ],
      "text/plain": [
       "   id             name                  email         created_date  \\\n",
       "0   1  Jammie McCamish  jmccamish0@devhub.com  2023-01-01 03:17:00   \n",
       "1   2   Brocky Spurret      bspurret1@npr.org  2023-01-01 05:35:00   \n",
       "\n",
       "          updated_date  \n",
       "0  2023-01-01 03:17:00  \n",
       "1  2023-01-01 05:35:00  "
      ]
     },
     "execution_count": 9,
     "metadata": {},
     "output_type": "execute_result"
    }
   ],
   "source": [
    "initial_df = pd.read_csv(source_initial_data_file)\n",
    "initial_df.head()"
   ]
  },
  {
   "cell_type": "code",
   "execution_count": 10,
   "metadata": {},
   "outputs": [
    {
     "data": {
      "text/html": [
       "<div>\n",
       "<style scoped>\n",
       "    .dataframe tbody tr th:only-of-type {\n",
       "        vertical-align: middle;\n",
       "    }\n",
       "\n",
       "    .dataframe tbody tr th {\n",
       "        vertical-align: top;\n",
       "    }\n",
       "\n",
       "    .dataframe thead th {\n",
       "        text-align: right;\n",
       "    }\n",
       "</style>\n",
       "<table border=\"1\" class=\"dataframe\">\n",
       "  <thead>\n",
       "    <tr style=\"text-align: right;\">\n",
       "      <th></th>\n",
       "      <th>id</th>\n",
       "      <th>name</th>\n",
       "      <th>email</th>\n",
       "      <th>created_date</th>\n",
       "      <th>updated_date</th>\n",
       "    </tr>\n",
       "  </thead>\n",
       "  <tbody>\n",
       "    <tr>\n",
       "      <th>0</th>\n",
       "      <td>2</td>\n",
       "      <td>Brocky Spurret</td>\n",
       "      <td>bspurret1@npr.org</td>\n",
       "      <td>2023-01-01 05:35:00</td>\n",
       "      <td>2023-01-01 05:35:00</td>\n",
       "    </tr>\n",
       "    <tr>\n",
       "      <th>1</th>\n",
       "      <td>1</td>\n",
       "      <td>Jammie McCamish</td>\n",
       "      <td>jmccamish0@develophub.com</td>\n",
       "      <td>2023-01-01 03:17:00</td>\n",
       "      <td>2023-01-02 03:17:00</td>\n",
       "    </tr>\n",
       "  </tbody>\n",
       "</table>\n",
       "</div>"
      ],
      "text/plain": [
       "   id             name                      email         created_date  \\\n",
       "0   2   Brocky Spurret          bspurret1@npr.org  2023-01-01 05:35:00   \n",
       "1   1  Jammie McCamish  jmccamish0@develophub.com  2023-01-01 03:17:00   \n",
       "\n",
       "          updated_date  \n",
       "0  2023-01-01 05:35:00  \n",
       "1  2023-01-02 03:17:00  "
      ]
     },
     "execution_count": 10,
     "metadata": {},
     "output_type": "execute_result"
    }
   ],
   "source": [
    "updated_df = pd.read_csv(source_updated_data_file)\n",
    "updated_df.head()"
   ]
  },
  {
   "cell_type": "code",
   "execution_count": 2,
   "metadata": {},
   "outputs": [],
   "source": [
    "spark = get_spark_with_hudi()"
   ]
  },
  {
   "cell_type": "code",
   "execution_count": 3,
   "metadata": {},
   "outputs": [],
   "source": [
    "full_overwrite_df = spark.read.format(\"hudi\").load(full_overwrite_path)\n",
    "incremental_insert_df = spark.read.format(\"hudi\").load(incremental_insert_path)\n",
    "incremental_upsert_df = spark.read.format(\"hudi\").load(incremental_upsert_path)"
   ]
  },
  {
   "cell_type": "code",
   "execution_count": 4,
   "metadata": {},
   "outputs": [
    {
     "data": {
      "text/html": [
       "<div>\n",
       "<style scoped>\n",
       "    .dataframe tbody tr th:only-of-type {\n",
       "        vertical-align: middle;\n",
       "    }\n",
       "\n",
       "    .dataframe tbody tr th {\n",
       "        vertical-align: top;\n",
       "    }\n",
       "\n",
       "    .dataframe thead th {\n",
       "        text-align: right;\n",
       "    }\n",
       "</style>\n",
       "<table border=\"1\" class=\"dataframe\">\n",
       "  <thead>\n",
       "    <tr style=\"text-align: right;\">\n",
       "      <th></th>\n",
       "      <th>id</th>\n",
       "      <th>name</th>\n",
       "      <th>email</th>\n",
       "      <th>created_date</th>\n",
       "      <th>updated_date</th>\n",
       "      <th>w_create_ts</th>\n",
       "    </tr>\n",
       "  </thead>\n",
       "  <tbody>\n",
       "    <tr>\n",
       "      <th>0</th>\n",
       "      <td>2</td>\n",
       "      <td>Brocky Spurret</td>\n",
       "      <td>bspurret1@npr.org</td>\n",
       "      <td>2023-01-01 05:35:00</td>\n",
       "      <td>2023-01-01 05:35:00</td>\n",
       "      <td>2023-01-02</td>\n",
       "    </tr>\n",
       "    <tr>\n",
       "      <th>1</th>\n",
       "      <td>1</td>\n",
       "      <td>Jammie McCamish</td>\n",
       "      <td>jmccamish0@develophub.com</td>\n",
       "      <td>2023-01-01 03:17:00</td>\n",
       "      <td>2023-01-02 03:17:00</td>\n",
       "      <td>2023-01-02</td>\n",
       "    </tr>\n",
       "  </tbody>\n",
       "</table>\n",
       "</div>"
      ],
      "text/plain": [
       "   id             name                      email        created_date  \\\n",
       "0   2   Brocky Spurret          bspurret1@npr.org 2023-01-01 05:35:00   \n",
       "1   1  Jammie McCamish  jmccamish0@develophub.com 2023-01-01 03:17:00   \n",
       "\n",
       "         updated_date w_create_ts  \n",
       "0 2023-01-01 05:35:00  2023-01-02  \n",
       "1 2023-01-02 03:17:00  2023-01-02  "
      ]
     },
     "execution_count": 4,
     "metadata": {},
     "output_type": "execute_result"
    }
   ],
   "source": [
    "full_overwrite_df.select(\"id\", \"name\", \"email\", \"created_date\", \"updated_date\", \"w_create_ts\").toPandas().head(10)"
   ]
  },
  {
   "cell_type": "code",
   "execution_count": 5,
   "metadata": {},
   "outputs": [
    {
     "data": {
      "text/html": [
       "<div>\n",
       "<style scoped>\n",
       "    .dataframe tbody tr th:only-of-type {\n",
       "        vertical-align: middle;\n",
       "    }\n",
       "\n",
       "    .dataframe tbody tr th {\n",
       "        vertical-align: top;\n",
       "    }\n",
       "\n",
       "    .dataframe thead th {\n",
       "        text-align: right;\n",
       "    }\n",
       "</style>\n",
       "<table border=\"1\" class=\"dataframe\">\n",
       "  <thead>\n",
       "    <tr style=\"text-align: right;\">\n",
       "      <th></th>\n",
       "      <th>id</th>\n",
       "      <th>name</th>\n",
       "      <th>email</th>\n",
       "      <th>created_date</th>\n",
       "      <th>updated_date</th>\n",
       "      <th>w_create_ts</th>\n",
       "    </tr>\n",
       "  </thead>\n",
       "  <tbody>\n",
       "    <tr>\n",
       "      <th>0</th>\n",
       "      <td>2</td>\n",
       "      <td>Brocky Spurret</td>\n",
       "      <td>bspurret1@npr.org</td>\n",
       "      <td>2023-01-01 05:35:00</td>\n",
       "      <td>2023-01-01 05:35:00</td>\n",
       "      <td>2023-01-01</td>\n",
       "    </tr>\n",
       "    <tr>\n",
       "      <th>1</th>\n",
       "      <td>1</td>\n",
       "      <td>Jammie McCamish</td>\n",
       "      <td>jmccamish0@develophub.com</td>\n",
       "      <td>2023-01-01 03:17:00</td>\n",
       "      <td>2023-01-02 03:17:00</td>\n",
       "      <td>2023-01-02</td>\n",
       "    </tr>\n",
       "  </tbody>\n",
       "</table>\n",
       "</div>"
      ],
      "text/plain": [
       "   id             name                      email        created_date  \\\n",
       "0   2   Brocky Spurret          bspurret1@npr.org 2023-01-01 05:35:00   \n",
       "1   1  Jammie McCamish  jmccamish0@develophub.com 2023-01-01 03:17:00   \n",
       "\n",
       "         updated_date w_create_ts  \n",
       "0 2023-01-01 05:35:00  2023-01-01  \n",
       "1 2023-01-02 03:17:00  2023-01-02  "
      ]
     },
     "execution_count": 5,
     "metadata": {},
     "output_type": "execute_result"
    }
   ],
   "source": [
    "incremental_upsert_df.select(\"id\", \"name\", \"email\", \"created_date\", \"updated_date\", \"w_create_ts\").toPandas().head(10)"
   ]
  },
  {
   "cell_type": "code",
   "execution_count": 6,
   "metadata": {},
   "outputs": [
    {
     "data": {
      "text/html": [
       "<div>\n",
       "<style scoped>\n",
       "    .dataframe tbody tr th:only-of-type {\n",
       "        vertical-align: middle;\n",
       "    }\n",
       "\n",
       "    .dataframe tbody tr th {\n",
       "        vertical-align: top;\n",
       "    }\n",
       "\n",
       "    .dataframe thead th {\n",
       "        text-align: right;\n",
       "    }\n",
       "</style>\n",
       "<table border=\"1\" class=\"dataframe\">\n",
       "  <thead>\n",
       "    <tr style=\"text-align: right;\">\n",
       "      <th></th>\n",
       "      <th>id</th>\n",
       "      <th>name</th>\n",
       "      <th>email</th>\n",
       "      <th>created_date</th>\n",
       "      <th>updated_date</th>\n",
       "      <th>w_create_ts</th>\n",
       "    </tr>\n",
       "  </thead>\n",
       "  <tbody>\n",
       "    <tr>\n",
       "      <th>0</th>\n",
       "      <td>2</td>\n",
       "      <td>Brocky Spurret</td>\n",
       "      <td>bspurret1@npr.org</td>\n",
       "      <td>2023-01-01 05:35:00</td>\n",
       "      <td>2023-01-01 05:35:00</td>\n",
       "      <td>2023-01-01</td>\n",
       "    </tr>\n",
       "    <tr>\n",
       "      <th>1</th>\n",
       "      <td>1</td>\n",
       "      <td>Jammie McCamish</td>\n",
       "      <td>jmccamish0@devhub.com</td>\n",
       "      <td>2023-01-01 03:17:00</td>\n",
       "      <td>2023-01-01 03:17:00</td>\n",
       "      <td>2023-01-01</td>\n",
       "    </tr>\n",
       "    <tr>\n",
       "      <th>2</th>\n",
       "      <td>1</td>\n",
       "      <td>Jammie McCamish</td>\n",
       "      <td>jmccamish0@develophub.com</td>\n",
       "      <td>2023-01-01 03:17:00</td>\n",
       "      <td>2023-01-02 03:17:00</td>\n",
       "      <td>2023-01-02</td>\n",
       "    </tr>\n",
       "  </tbody>\n",
       "</table>\n",
       "</div>"
      ],
      "text/plain": [
       "   id             name                      email        created_date  \\\n",
       "0   2   Brocky Spurret          bspurret1@npr.org 2023-01-01 05:35:00   \n",
       "1   1  Jammie McCamish      jmccamish0@devhub.com 2023-01-01 03:17:00   \n",
       "2   1  Jammie McCamish  jmccamish0@develophub.com 2023-01-01 03:17:00   \n",
       "\n",
       "         updated_date w_create_ts  \n",
       "0 2023-01-01 05:35:00  2023-01-01  \n",
       "1 2023-01-01 03:17:00  2023-01-01  \n",
       "2 2023-01-02 03:17:00  2023-01-02  "
      ]
     },
     "execution_count": 6,
     "metadata": {},
     "output_type": "execute_result"
    }
   ],
   "source": [
    "incremental_insert_df.select(\"id\", \"name\", \"email\", \"created_date\", \"updated_date\", \"w_create_ts\").toPandas().head(10)"
   ]
  }
 ],
 "metadata": {
  "kernelspec": {
   "display_name": ".venv",
   "language": "python",
   "name": "python3"
  },
  "language_info": {
   "codemirror_mode": {
    "name": "ipython",
    "version": 3
   },
   "file_extension": ".py",
   "mimetype": "text/x-python",
   "name": "python",
   "nbconvert_exporter": "python",
   "pygments_lexer": "ipython3",
   "version": "3.11.1 (tags/v3.11.1:a7a450f, Dec  6 2022, 19:58:39) [MSC v.1934 64 bit (AMD64)]"
  },
  "orig_nbformat": 4,
  "vscode": {
   "interpreter": {
    "hash": "e786019c51d7d66bc673c7db9fba72e515d909359f6b6c2874a8577b83f4c335"
   }
  }
 },
 "nbformat": 4,
 "nbformat_minor": 2
}
