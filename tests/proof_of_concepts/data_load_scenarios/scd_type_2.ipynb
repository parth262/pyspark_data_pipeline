{
 "cells": [
  {
   "cell_type": "code",
   "execution_count": 1,
   "metadata": {},
   "outputs": [
    {
     "data": {
      "text/plain": [
       "{'hoodie.table.name': 'customers_full_overwrite_history',\n",
       " 'hoodie.datasource.write.recordkey.field': 'id',\n",
       " 'hoodie.datasource.write.partitionpath.field': 'date',\n",
       " 'hoodie.datasource.write.table.name': 'customers_full_overwrite_history',\n",
       " 'hoodie.datasource.write.operation': 'upsert',\n",
       " 'hoodie.datasource.write.precombine.field': 'updated_date'}"
      ]
     },
     "execution_count": 1,
     "metadata": {},
     "output_type": "execute_result"
    }
   ],
   "source": [
    "from util import *\n",
    "import pyspark.sql.functions as f\n",
    "from datetime import datetime\n",
    "import warnings\n",
    "warnings.simplefilter(action='ignore', category=FutureWarning)\n",
    "\n",
    "initial_data_file = \"C:/Users/parth/Desktop/workspace/data_pipeline/resources/sample_data/customers.csv\"\n",
    "updated_data_file = \"C:/Users/parth/Desktop/workspace/data_pipeline/resources/sample_data/customers_full.csv\"\n",
    "\n",
    "output_path = \"C:/Users/parth/Desktop/workspace/data_pipeline/output/customers_full_overwrite_history\"\n",
    "table_name = \"customers_full_overwrite_history\"\n",
    "primary_key_field = \"id\"\n",
    "parition_field = \"date\"\n",
    "precombine_field = \"updated_date\"\n",
    "spark_write_mode = \"append\"\n",
    "parition_from = \"updated_date\"\n",
    "hudi_options = get_incremental_options(table_name, primary_key_field, parition_field, precombine_field)\n",
    "source_columns = [\"id\", \"name\", \"email\", \"created_date\", \"updated_date\"]\n",
    "timestamp_columns = [\"created_date\", \"updated_date\"]\n",
    "hudi_options"
   ]
  },
  {
   "cell_type": "code",
   "execution_count": 2,
   "metadata": {},
   "outputs": [],
   "source": [
    "import os\n",
    "import shutil\n",
    "\n",
    "if os.path.exists(output_path):\n",
    "    shutil.rmtree(output_path)"
   ]
  },
  {
   "cell_type": "code",
   "execution_count": 3,
   "metadata": {},
   "outputs": [],
   "source": [
    "spark = get_spark_with_hudi()"
   ]
  },
  {
   "cell_type": "code",
   "execution_count": 4,
   "metadata": {},
   "outputs": [],
   "source": [
    "source_df = spark.read.option(\"header\", \"true\").option(\"inferSchema\", \"true\").format(\"csv\").load(initial_data_file)\n",
    "\n",
    "for column in timestamp_columns:\n",
    "    source_df = source_df.withColumn(column, f.col(column).cast(\"timestamp\"))"
   ]
  },
  {
   "cell_type": "code",
   "execution_count": 5,
   "metadata": {},
   "outputs": [
    {
     "name": "stdout",
     "output_type": "stream",
     "text": [
      "+---+---------------+--------------------+-------------------+-------------------+---------+--------------------+-------------------+\n",
      "| id|           name|               email|       created_date|       updated_date|is_active|effective_start_date| effective_end_date|\n",
      "+---+---------------+--------------------+-------------------+-------------------+---------+--------------------+-------------------+\n",
      "|  1|Jammie McCamish|jmccamish0@devhub...|2023-01-01 03:17:00|2023-01-01 03:17:00|     true| 2023-01-14 20:12:55|2999-12-31 23:59:59|\n",
      "|  2| Brocky Spurret|   bspurret1@npr.org|2023-01-01 05:35:00|2023-01-01 05:35:00|     true| 2023-01-14 20:12:55|2999-12-31 23:59:59|\n",
      "+---+---------------+--------------------+-------------------+-------------------+---------+--------------------+-------------------+\n",
      "\n"
     ]
    }
   ],
   "source": [
    "w_create_ts = datetime.now().strftime(\"%Y-%m-%d %H:%M:%S\")\n",
    "processed_df = (source_df\n",
    "    .withColumn(\"is_active\", f.lit(True))\n",
    "    .withColumn(\"effective_start_date\", f.to_timestamp(f.lit(w_create_ts)))\n",
    "    .withColumn(\"effective_end_date\", f.to_timestamp(f.lit(\"2999-12-31 23:59:59\"))))\n",
    "processed_df.show()"
   ]
  },
  {
   "cell_type": "code",
   "execution_count": 6,
   "metadata": {},
   "outputs": [],
   "source": [
    "processed_df.withColumn(\"date\", f.date_format(f.col(parition_from), \"yyyyMMdd\")).withColumn(\"w_create_ts\", f.lit(w_create_ts).cast(\"timestamp\")).write.format(\"hudi\").options(**hudi_options).mode(spark_write_mode).save(output_path)"
   ]
  },
  {
   "cell_type": "code",
   "execution_count": 7,
   "metadata": {},
   "outputs": [],
   "source": [
    "source_df = spark.read.option(\"header\", \"true\").option(\"inferSchema\", \"true\").format(\"csv\").load(updated_data_file)\n",
    "\n",
    "for column in timestamp_columns:\n",
    "    source_df = source_df.withColumn(column, f.col(column).cast(\"timestamp\"))\n",
    "\n",
    "w_create_ts = datetime.now().strftime(\"%Y-%m-%d %H:%M:%S\")\n",
    "\n",
    "source_df = (source_df\n",
    "    .withColumn(\"is_active\", f.lit(True))\n",
    "    .withColumn(\"effective_start_date\", f.to_timestamp(f.lit(w_create_ts)))\n",
    "    .withColumn(\"effective_end_date\", f.to_timestamp(f.lit(\"2999-12-31 23:59:59\"))))"
   ]
  },
  {
   "cell_type": "code",
   "execution_count": 8,
   "metadata": {},
   "outputs": [
    {
     "name": "stdout",
     "output_type": "stream",
     "text": [
      "+---+---------------+--------------------+-------------------+-------------------+--------------------+-------------------+---------+\n",
      "| id|           name|               email|       created_date|       updated_date|effective_start_date| effective_end_date|is_active|\n",
      "+---+---------------+--------------------+-------------------+-------------------+--------------------+-------------------+---------+\n",
      "|  1|Jammie McCamish|jmccamish0@devhub...|2023-01-01 03:17:00|2023-01-01 03:17:00| 2023-01-14 20:12:55|2999-12-31 23:59:59|     true|\n",
      "+---+---------------+--------------------+-------------------+-------------------+--------------------+-------------------+---------+\n",
      "\n"
     ]
    }
   ],
   "source": [
    "prev_df = spark.read.format(\"hudi\").load(output_path)\n",
    "prev_df_intermediate = prev_df.select(*source_columns).exceptAll(source_df.select(*source_columns))\n",
    "prev_df_incremental =(prev_df_intermediate\n",
    "    .join(prev_df.select(primary_key_field, \"effective_start_date\", \"effective_end_date\", \"is_active\"), on=primary_key_field)\n",
    ")\n",
    "prev_df_incremental.show()"
   ]
  },
  {
   "cell_type": "code",
   "execution_count": 9,
   "metadata": {},
   "outputs": [
    {
     "name": "stdout",
     "output_type": "stream",
     "text": [
      "+---+---------------+--------------------+-------------------+-------------------+---------+--------------------+-------------------+\n",
      "| id|           name|               email|       created_date|       updated_date|is_active|effective_start_date| effective_end_date|\n",
      "+---+---------------+--------------------+-------------------+-------------------+---------+--------------------+-------------------+\n",
      "|  2| Brocky Spurret|   bspurret1@npr.org|2023-01-01 05:35:00|2023-01-01 05:35:00|     true| 2023-01-14 20:13:06|2999-12-31 23:59:59|\n",
      "|  1|Jammie McCamish|jmccamish0@develo...|2023-01-01 03:17:00|2023-01-02 03:17:00|     true| 2023-01-14 20:13:06|2999-12-31 23:59:59|\n",
      "|  1|Jammie McCamish|jmccamish0@devhub...|2023-01-01 03:17:00|2023-01-01 03:17:00|    false| 2023-01-14 20:12:55|2023-01-14 20:13:06|\n",
      "+---+---------------+--------------------+-------------------+-------------------+---------+--------------------+-------------------+\n",
      "\n"
     ]
    }
   ],
   "source": [
    "join_condition = [prev_df_incremental[primary_key_field] == source_df[primary_key_field], prev_df_incremental[\"is_active\"]]\n",
    "to_update_df = (prev_df_incremental\n",
    "    .join(source_df, on=join_condition)\n",
    "    .select(prev_df_incremental[\"*\"], source_df[\"effective_start_date\"].alias(\"prev_effective_end_date\"))\n",
    "    .withColumn(\"effective_end_date\", f.col(\"prev_effective_end_date\"))\n",
    "    .withColumn(\"is_active\", f.lit(False))\n",
    "    .drop(\"prev_effective_end_date\"))\n",
    "final_df = source_df.unionByName(to_update_df)\n",
    "final_df.show()"
   ]
  },
  {
   "cell_type": "code",
   "execution_count": 10,
   "metadata": {},
   "outputs": [],
   "source": [
    "final_df.withColumn(\"date\", f.date_format(f.col(parition_from), \"yyyyMMdd\")).withColumn(\"w_create_ts\", f.lit(w_create_ts).cast(\"timestamp\")).write.format(\"hudi\").options(**hudi_options).mode(spark_write_mode).save(output_path)"
   ]
  },
  {
   "cell_type": "code",
   "execution_count": 16,
   "metadata": {},
   "outputs": [
    {
     "name": "stdout",
     "output_type": "stream",
     "text": [
      "+---+---------------+--------------------+-------------------+-------------------+---------+--------------------+-------------------+\n",
      "| id|           name|               email|       created_date|       updated_date|is_active|effective_start_date| effective_end_date|\n",
      "+---+---------------+--------------------+-------------------+-------------------+---------+--------------------+-------------------+\n",
      "|  2| Brocky Spurret|   bspurret1@npr.org|2023-01-01 05:35:00|2023-01-01 05:35:00|     true| 2023-01-14 20:13:06|2999-12-31 23:59:59|\n",
      "|  1|Jammie McCamish|jmccamish0@devhub...|2023-01-01 03:17:00|2023-01-01 03:17:00|    false| 2023-01-14 20:12:55|2023-01-14 20:13:06|\n",
      "|  1|Jammie McCamish|jmccamish0@develo...|2023-01-01 03:17:00|2023-01-02 03:17:00|     true| 2023-01-14 20:13:06|2999-12-31 23:59:59|\n",
      "+---+---------------+--------------------+-------------------+-------------------+---------+--------------------+-------------------+\n",
      "\n"
     ]
    }
   ],
   "source": [
    "spark.read.format(\"hudi\").load(output_path).select(*source_columns, \"is_active\", \"effective_start_date\", \"effective_end_date\").show()"
   ]
  }
 ],
 "metadata": {
  "kernelspec": {
   "display_name": ".venv",
   "language": "python",
   "name": "python3"
  },
  "language_info": {
   "codemirror_mode": {
    "name": "ipython",
    "version": 3
   },
   "file_extension": ".py",
   "mimetype": "text/x-python",
   "name": "python",
   "nbconvert_exporter": "python",
   "pygments_lexer": "ipython3",
   "version": "3.11.1"
  },
  "orig_nbformat": 4,
  "vscode": {
   "interpreter": {
    "hash": "e786019c51d7d66bc673c7db9fba72e515d909359f6b6c2874a8577b83f4c335"
   }
  }
 },
 "nbformat": 4,
 "nbformat_minor": 2
}
